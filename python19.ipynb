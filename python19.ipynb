{
  "nbformat": 4,
  "nbformat_minor": 0,
  "metadata": {
    "colab": {
      "provenance": [],
      "authorship_tag": "ABX9TyPhdCZ8Zc8bGulYQFjQ56K3"
    },
    "kernelspec": {
      "name": "python3",
      "display_name": "Python 3"
    },
    "language_info": {
      "name": "python"
    }
  },
  "cells": [
    {
      "cell_type": "markdown",
      "source": [
        "<span style=\"font-size:100%\">\n",
        "\n",
        "수업은 모두 열심히 들으셨나요?\n",
        "\n",
        "간혹 강의에서 언급되지 않은 내용이 문제로 나올 수 있습니다.<br>\n",
        "그럴땐 강의 내용 외 문제는 구글링을 통해 해결해주세요<br></span>\n",
        "<span style=\"font-size:80%\">\n",
        "(구글링 또한 개발자가 갖쳐야할 역량 중에 하나랍니다 😊)\n",
        "</span>\n",
        "\n",
        "---"
      ],
      "metadata": {
        "id": "ZYsxYtLowLCp"
      }
    },
    {
      "cell_type": "markdown",
      "source": [
        "<span style=\"font-size:80%\">[문제1]<br><br></span>\n",
        "```쓰기 모드로 설정하기 위한 명령어를 골라주세요```\n",
        "\n",
        "1. a\n",
        "2. x\n",
        "3. i\n",
        "4. w\n",
        "5. z\n",
        "\n",
        "답변 1번 4번"
      ],
      "metadata": {
        "id": "h6Rw2bKPwO7K"
      }
    },
    {
      "cell_type": "markdown",
      "source": [
        "<span style=\"font-size:80%\">[문제2]<br><br></span>\n",
        "```한 줄씩 읽어오기 위해 사용되는 메소드를 골라주세요```\n",
        "\n",
        "1. read()\n",
        "2. readline()\n",
        "3. readstring()\n",
        "4. line()"
      ],
      "metadata": {
        "id": "vupAUF9Kwcr3"
      }
    },
    {
      "cell_type": "markdown",
      "source": [
        "답변 2번"
      ],
      "metadata": {
        "id": "1OejyuBmweQl"
      }
    },
    {
      "cell_type": "markdown",
      "source": [
        "<span style=\"font-size:80%\">[문제3]<br><br></span>\n",
        "```콤마( , )로 구분해서 데이터를 입력하는 csv파일을 만들기 위해 필요한 코드를 추가로 작성해 주세요```\n",
        "\n",
        "list = ['10', '20', '30', '40']\n",
        "\n",
        "with open('test.csv', 'w') as f:<br>\n",
        "&emsp;&emsp;(여기서부터 필요한 코드를 하단 답변란에 작성해주세요)"
      ],
      "metadata": {
        "id": "_oCYYPs5wfwQ"
      }
    },
    {
      "cell_type": "markdown",
      "source": [
        "답변 : f.write(','.join(map(str,list)))"
      ],
      "metadata": {
        "id": "UnR505BCwi4V"
      }
    }
  ]
}