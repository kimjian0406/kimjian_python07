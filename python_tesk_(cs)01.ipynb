{
  "nbformat": 4,
  "nbformat_minor": 0,
  "metadata": {
    "colab": {
      "provenance": [],
      "authorship_tag": "ABX9TyMvKI9dBSCY+cadJEXwCiXx"
    },
    "kernelspec": {
      "name": "python3",
      "display_name": "Python 3"
    },
    "language_info": {
      "name": "python"
    }
  },
  "cells": [
    {
      "cell_type": "markdown",
      "source": [
        "안녕하세요. 수강생 여러분~! Chapter17 ~ 20 수업은 잘 들으셨나요?\n",
        "\n",
        "Chapter17 ~ 20의 수업 내용을 바탕으로 아래 문제를 풀어주시면 됩니다.\n",
        "\n",
        "\n",
        "<br>\n",
        "\n",
        "\n",
        "[**답변 입력 방법**]\n",
        "\n",
        "문제 아래에 있는 코드 입력창에 정답코드를 작성하신 후  __▷ 버튼을 클릭해 코드를 실행__ 해보세요<br>"
      ],
      "metadata": {
        "id": "KLKFAF-b1iKq"
      }
    },
    {
      "cell_type": "markdown",
      "source": [
        "__[문제1]__\n",
        "\n",
        "print_even 리스트 내에 있는 값 중 짝수만 화면에 출력되도록 print_score 함수를 생성 후 결과값을 출력해주세요\n",
        "\n",
        "print_even ([1, 3, 2, 10, 12, 11, 15])"
      ],
      "metadata": {
        "id": "5KemW6iE1kpZ"
      }
    },
    {
      "cell_type": "code",
      "source": [
        "def print_even(numbers):\n",
        "    \"\"\"리스트에서 짝수만 출력하는 함수\"\"\"\n",
        "    for number in numbers:\n",
        "        if number % 2 == 0:  # 짝수인지 확인\n",
        "            print(number)\n",
        "\n",
        "# 테스트 실행\n",
        "print_even([1, 3, 2, 10, 12, 11, 15])\n"
      ],
      "metadata": {
        "colab": {
          "base_uri": "https://localhost:8080/"
        },
        "id": "pPJaVOQl12kT",
        "outputId": "d28aea58-d468-4b94-c70e-568a3e42b580"
      },
      "execution_count": 1,
      "outputs": [
        {
          "output_type": "stream",
          "name": "stdout",
          "text": [
            "2\n",
            "10\n",
            "12\n"
          ]
        }
      ]
    },
    {
      "cell_type": "code",
      "source": [
        "def get_even(numbers):\n",
        "    \"\"\"리스트에서 짝수만 반환하는 함수\"\"\"\n",
        "    return [number for number in numbers if number % 2 == 0]\n",
        "\n",
        "# 테스트 실행\n",
        "result = get_even([1, 3, 2, 10, 12, 11, 15])\n",
        "print(result)  # [2, 10, 12]\n"
      ],
      "metadata": {
        "colab": {
          "base_uri": "https://localhost:8080/"
        },
        "id": "h7xPO8yf18mw",
        "outputId": "bd51b493-e7cf-477b-ce2a-6d73a5119cc3"
      },
      "execution_count": 2,
      "outputs": [
        {
          "output_type": "stream",
          "name": "stdout",
          "text": [
            "[2, 10, 12]\n"
          ]
        }
      ]
    },
    {
      "cell_type": "code",
      "source": [
        "def classify_numbers(numbers):\n",
        "    \"\"\"리스트의 숫자를 짝수와 홀수로 분리하여 출력\"\"\"\n",
        "    even = [number for number in numbers if number % 2 == 0]\n",
        "    odd = [number for number in numbers if number % 2 != 0]\n",
        "    print(\"짝수:\", even)\n",
        "    print(\"홀수:\", odd)\n",
        "\n",
        "# 테스트 실행\n",
        "classify_numbers([1, 3, 2, 10, 12, 11, 15])\n"
      ],
      "metadata": {
        "colab": {
          "base_uri": "https://localhost:8080/"
        },
        "id": "sg7y8ZwA2COK",
        "outputId": "b45cad1d-746c-4022-bcd7-c830e861fb97"
      },
      "execution_count": 3,
      "outputs": [
        {
          "output_type": "stream",
          "name": "stdout",
          "text": [
            "짝수: [2, 10, 12]\n",
            "홀수: [1, 3, 11, 15]\n"
          ]
        }
      ]
    },
    {
      "cell_type": "markdown",
      "source": [
        "__[문제2]__\n",
        "\n",
        "비어있는 오즈 (oz) 클래스를 \"정의\" 해보세요."
      ],
      "metadata": {
        "id": "O77NoWu62Emc"
      }
    },
    {
      "cell_type": "code",
      "source": [
        "# 비어 있는 'oz' 클래스 정의\n",
        "class oz:\n",
        "    pass\n"
      ],
      "metadata": {
        "id": "Fz_muZdG2RB8"
      },
      "execution_count": 4,
      "outputs": []
    },
    {
      "cell_type": "code",
      "source": [
        "class oz:\n",
        "    def __init__(self, name):\n",
        "        self.name = name\n",
        "\n",
        "oz_instance = oz(\"Emerald City\")\n",
        "print(oz_instance.name)  # 출력: Emerald City\n"
      ],
      "metadata": {
        "colab": {
          "base_uri": "https://localhost:8080/"
        },
        "id": "G44DQqoR2TGp",
        "outputId": "96eff633-f864-4fc3-d424-2fd271978a98"
      },
      "execution_count": 5,
      "outputs": [
        {
          "output_type": "stream",
          "name": "stdout",
          "text": [
            "Emerald City\n"
          ]
        }
      ]
    },
    {
      "cell_type": "code",
      "source": [
        "class oz:\n",
        "    def greeting(self):\n",
        "        print(\"Welcome to the land of oz!\")\n",
        "\n",
        "oz_instance = oz()\n",
        "oz_instance.greeting()  # 출력: Welcome to the land of oz!\n"
      ],
      "metadata": {
        "colab": {
          "base_uri": "https://localhost:8080/"
        },
        "id": "ubyPCT1O2W7J",
        "outputId": "50c9d005-27df-4e48-9638-1efdec7a5624"
      },
      "execution_count": 7,
      "outputs": [
        {
          "output_type": "stream",
          "name": "stdout",
          "text": [
            "Welcome to the land of oz!\n"
          ]
        }
      ]
    },
    {
      "cell_type": "markdown",
      "source": [
        "__[문제3]__\n",
        "\n",
        "오즈(oz) 클래스의 인스턴스를 \"생성\" 하고 이를 coding 변수로 할당해보세요."
      ],
      "metadata": {
        "id": "6SjR_jzF2sM6"
      }
    },
    {
      "cell_type": "code",
      "source": [
        "# 클래스 정의\n",
        "class oz:\n",
        "    pass\n",
        "\n",
        "# 인스턴스 생성\n",
        "coding = oz()\n",
        "\n",
        "# 출력 확인\n",
        "print(coding)  # <__main__.oz object at 0x...>\n"
      ],
      "metadata": {
        "colab": {
          "base_uri": "https://localhost:8080/"
        },
        "id": "oXy6ZYRIGPfS",
        "outputId": "3f87bbf3-b503-420d-df25-7c5e60fbb26c"
      },
      "execution_count": 8,
      "outputs": [
        {
          "output_type": "stream",
          "name": "stdout",
          "text": [
            "<__main__.oz object at 0x787d0a20d990>\n"
          ]
        }
      ]
    },
    {
      "cell_type": "markdown",
      "source": [
        "[문제4]\n",
        "\n",
        "오즈(oz) 클래스에 \"클래스 정복\"을 출력하는 기본 생성자를 추가해주세요"
      ],
      "metadata": {
        "id": "eFtHkqtYGiIZ"
      }
    },
    {
      "cell_type": "code",
      "source": [
        "class oz:\n",
        "    # 기본 생성자 정의\n",
        "    def __init__(self):\n",
        "        print(\"클래스 정복\")\n",
        "\n",
        "# 인스턴스 생성\n",
        "coding = oz()  # 생성자 호출\n"
      ],
      "metadata": {
        "colab": {
          "base_uri": "https://localhost:8080/"
        },
        "id": "y9vprwa2Givf",
        "outputId": "fd17d8a0-3e4d-4b9d-a83c-b21c93ba3a21"
      },
      "execution_count": 10,
      "outputs": [
        {
          "output_type": "stream",
          "name": "stdout",
          "text": [
            "클래스 정복\n"
          ]
        }
      ]
    },
    {
      "cell_type": "code",
      "source": [
        "class oz:\n",
        "    def __init__(self, name):\n",
        "        print(f\"{name}, 클래스 정복!\")\n",
        "\n",
        "# 인스턴스 생성\n",
        "coding = oz(\"파이썬\")  # 출력: 파이썬, 클래스 정복!\n"
      ],
      "metadata": {
        "colab": {
          "base_uri": "https://localhost:8080/"
        },
        "id": "mUou4EV6G5pd",
        "outputId": "fecab010-e985-4ac0-b7ca-5e74e63a5e67"
      },
      "execution_count": 11,
      "outputs": [
        {
          "output_type": "stream",
          "name": "stdout",
          "text": [
            "파이썬, 클래스 정복!\n"
          ]
        }
      ]
    },
    {
      "cell_type": "code",
      "source": [
        "class oz:\n",
        "    def __init__(self):\n",
        "        self.message = \"클래스 정복\"\n",
        "\n",
        "# 인스턴스 생성 및 속성 확인\n",
        "coding = oz()\n",
        "print(coding.message)  # 출력: 클래스 정복\n"
      ],
      "metadata": {
        "colab": {
          "base_uri": "https://localhost:8080/"
        },
        "id": "FvjkQJNOG7-Y",
        "outputId": "65b25fca-56b6-4b44-bfff-92dd21e95844"
      },
      "execution_count": 12,
      "outputs": [
        {
          "output_type": "stream",
          "name": "stdout",
          "text": [
            "클래스 정복\n"
          ]
        }
      ]
    },
    {
      "cell_type": "markdown",
      "source": [
        "__[문제5]__\n",
        "\n",
        "오즈 (oz) 클래스에 (이름, 나이, 코딩레벨)을 받는 생성자를 추가해주세요\n",
        "\n",
        "coding = oz(\"김코\", 30, \"A\")\n"
      ],
      "metadata": {
        "id": "5L4Cb1iGHeYk"
      }
    },
    {
      "cell_type": "code",
      "source": [
        "class oz:\n",
        "    # 생성자 정의\n",
        "    def __init__(self, 이름, 나이, 코딩레벨):\n",
        "        self.이름 = 이름\n",
        "        self.나이 = 나이\n",
        "        self.코딩레벨 = 코딩레벨\n",
        "\n",
        "# 인스턴스 생성\n",
        "coding = oz(\"김코\", 30, \"A\")\n",
        "\n",
        "# 속성 출력\n",
        "print(f\"이름: {coding.이름}\")       # 이름: 김코\n",
        "print(f\"나이: {coding.나이}\")       # 나이: 30\n",
        "print(f\"코딩레벨: {coding.코딩레벨}\")  # 코딩레벨: A\n"
      ],
      "metadata": {
        "colab": {
          "base_uri": "https://localhost:8080/"
        },
        "id": "9QIpHGgYHfMr",
        "outputId": "da1d357f-db36-49c6-c672-4be5f7973df2"
      },
      "execution_count": 15,
      "outputs": [
        {
          "output_type": "stream",
          "name": "stdout",
          "text": [
            "이름: 김코\n",
            "나이: 30\n",
            "코딩레벨: A\n"
          ]
        }
      ]
    },
    {
      "cell_type": "code",
      "source": [
        "class oz:\n",
        "    def __init__(self, 이름, 나이, 코딩레벨):\n",
        "        self.이름 = 이름\n",
        "        self.나이 = 나이\n",
        "        self.코딩레벨 = 코딩레벨\n",
        "\n",
        "    def 소개(self):\n",
        "        print(f\"안녕하세요, 제 이름은 {self.이름}, 나이는 {self.나이}살, 코딩레벨은 {self.코딩레벨}입니다!\")\n",
        "\n",
        "# 인스턴스 생성 및 메서드 호출\n",
        "coding = oz(\"김코\", 30, \"A\")\n",
        "coding.소개()\n"
      ],
      "metadata": {
        "colab": {
          "base_uri": "https://localhost:8080/"
        },
        "id": "eRa1YldkHkxL",
        "outputId": "dd61b932-945d-4a3a-bb15-a031da8b70a0"
      },
      "execution_count": 16,
      "outputs": [
        {
          "output_type": "stream",
          "name": "stdout",
          "text": [
            "안녕하세요, 제 이름은 김코, 나이는 30살, 코딩레벨은 A입니다!\n"
          ]
        }
      ]
    },
    {
      "cell_type": "markdown",
      "source": [
        "__[문제6]__\n",
        "\n",
        "5번 문제에서 생성한 인스턴스의 이름, 나이, 성별을 출력해주세요.\n",
        "\n",
        "\n",
        "\n",
        "출력 결과  ) <br>\n",
        "이름 : 김코  \n",
        "나이 : 30  \n",
        "코딩레벨 : A  \n",
        "\n",
        "__Tips__\n",
        "\n",
        "\n",
        "- 인스턴스 변수에 접근하여 값을 출력하면 됩니다  : )"
      ],
      "metadata": {
        "id": "-mm4zWUrHonS"
      }
    },
    {
      "cell_type": "code",
      "source": [
        "class oz:\n",
        "    # 생성자 정의\n",
        "    def __init__(self, 이름, 나이, 코딩레벨):\n",
        "        self.이름 = 이름\n",
        "        self.나이 = 나이\n",
        "        self.코딩레벨 = 코딩레벨\n",
        "\n",
        "# 인스턴스 생성\n",
        "coding = oz(\"김코\", 30, \"A\")\n",
        "\n",
        "# 인스턴스 변수 출력\n",
        "print(f\"이름 : {coding.이름}\")       # 이름 : 김코\n",
        "print(f\"나이 : {coding.나이}\")       # 나이 : 30\n",
        "print(f\"코딩레벨 : {coding.코딩레벨}\")  # 코딩레벨 : A\n"
      ],
      "metadata": {
        "colab": {
          "base_uri": "https://localhost:8080/"
        },
        "id": "fQWFMZRiHpLt",
        "outputId": "0e0cefc4-fb77-432a-c2d2-153827edb855"
      },
      "execution_count": 17,
      "outputs": [
        {
          "output_type": "stream",
          "name": "stdout",
          "text": [
            "이름 : 김코\n",
            "나이 : 30\n",
            "코딩레벨 : A\n"
          ]
        }
      ]
    },
    {
      "cell_type": "code",
      "source": [
        "class oz:\n",
        "    def __init__(self, 이름, 나이, 코딩레벨):\n",
        "        self.이름 = 이름\n",
        "        self.나이 = 나이\n",
        "        self.코딩레벨 = 코딩레벨\n",
        "\n",
        "    def 출력(self):\n",
        "        print(f\"이름 : {self.이름}\")\n",
        "        print(f\"나이 : {self.나이}\")\n",
        "        print(f\"코딩레벨 : {self.코딩레벨}\")\n",
        "\n",
        "# 인스턴스 생성 및 출력\n",
        "coding = oz(\"김코\", 30, \"A\")\n",
        "coding.출력()\n"
      ],
      "metadata": {
        "colab": {
          "base_uri": "https://localhost:8080/"
        },
        "id": "YFgVtoVkH4Yg",
        "outputId": "55c95e28-5a1b-4048-9ad8-2bd42c87c96a"
      },
      "execution_count": 18,
      "outputs": [
        {
          "output_type": "stream",
          "name": "stdout",
          "text": [
            "이름 : 김코\n",
            "나이 : 30\n",
            "코딩레벨 : A\n"
          ]
        }
      ]
    },
    {
      "cell_type": "markdown",
      "source": [
        "__[문제7]__\n",
        "\n",
        "오즈 (oz) 클래스에서 이름, 나이, 성별을 출력하는 who() 메소드를 추가하고 who()메소드를 이용해 아래 출력 결과를 만들어주세요\n",
        "\n",
        "\n",
        "출력 결과 ) <br>\n",
        "이름: 김코, 나이: 30, 코딩레벨: A"
      ],
      "metadata": {
        "id": "ki54sKlnIGRR"
      }
    },
    {
      "cell_type": "code",
      "source": [
        "class oz:\n",
        "    # 생성자 정의\n",
        "    def __init__(self, 이름, 나이, 코딩레벨):\n",
        "        self.이름 = 이름\n",
        "        self.나이 = 나이\n",
        "        self.코딩레벨 = 코딩레벨\n",
        "\n",
        "    # who() 메서드 추가\n",
        "    def who(self):\n",
        "        print(f\"이름: {self.이름}, 나이: {self.나이}, 코딩레벨: {self.코딩레벨}\")\n",
        "\n",
        "# 인스턴스 생성\n",
        "coding = oz(\"김코\", 30, \"A\")\n",
        "\n",
        "# who() 메서드 호출\n",
        "coding.who()\n"
      ],
      "metadata": {
        "colab": {
          "base_uri": "https://localhost:8080/"
        },
        "id": "-8EkDfEIIG5T",
        "outputId": "0e12cfb7-5e03-4cc4-d005-0f26c8ec0708"
      },
      "execution_count": 19,
      "outputs": [
        {
          "output_type": "stream",
          "name": "stdout",
          "text": [
            "이름: 김코, 나이: 30, 코딩레벨: A\n"
          ]
        }
      ]
    },
    {
      "cell_type": "code",
      "source": [
        "class oz:\n",
        "    def __init__(self, 이름, 나이, 코딩레벨):\n",
        "        self.이름 = 이름\n",
        "        self.나이 = 나이\n",
        "        self.코딩레벨 = 코딩레벨\n",
        "\n",
        "    def who(self):\n",
        "        return f\"이름: {self.이름}, 나이: {self.나이}, 코딩레벨: {self.코딩레벨}\"\n",
        "\n",
        "# 인스턴스 생성\n",
        "coding = oz(\"김코\", 30, \"A\")\n",
        "print(coding.who())  # 출력: 이름: 김코, 나이: 30, 코딩레벨: A\n"
      ],
      "metadata": {
        "colab": {
          "base_uri": "https://localhost:8080/"
        },
        "id": "EXXZPj4IIMua",
        "outputId": "bf8f79be-0e35-439d-e33f-cedfaac94d78"
      },
      "execution_count": 20,
      "outputs": [
        {
          "output_type": "stream",
          "name": "stdout",
          "text": [
            "이름: 김코, 나이: 30, 코딩레벨: A\n"
          ]
        }
      ]
    }
  ]
}