{
  "nbformat": 4,
  "nbformat_minor": 0,
  "metadata": {
    "colab": {
      "provenance": [],
      "authorship_tag": "ABX9TyN33I55Qg+FbEG0nQwKZc6W"
    },
    "kernelspec": {
      "name": "python3",
      "display_name": "Python 3"
    },
    "language_info": {
      "name": "python"
    }
  },
  "cells": [
    {
      "cell_type": "markdown",
      "source": [
        "\n",
        "## Mini project [행맨 게임 제작]\n",
        "\n",
        "안녕하세요.\n",
        "수강생 여러분~! Chapter 1 ~ 6 까지의 수업은 잘 들으셨나요?\n",
        "\n",
        "여러분의 모든 역량을 총 동원해 문제를 풀어주셨합니다.\n",
        "\n",
        "\n",
        "\n",
        "#### 과제 설명\n",
        "\n",
        "이번 개발 주제는 '행맨' 게임이구요.\n",
        "\n",
        "행맨 게임은 아주 유명한 단어 퀴즈 프로그램이예요\n",
        "\n",
        "어떤 단어가 주어지면 그 단어의 길이만큼 빈 칸(밑줄) 이 주어지고\n",
        "플레이어는 알파벳을 하나씩 얘기하면서 단어를 추측해요!\n",
        "\n",
        "10번만에 맞히지 못하면 게임이 끝납니다. 🥲\n",
        "\n"
      ],
      "metadata": {
        "id": "rkwSiKVGh9IR"
      }
    },
    {
      "cell_type": "markdown",
      "source": [
        "#### 예시를 들어볼께요!!\n",
        "\n",
        "만약 E 가 단어에 포함돼있다면, 해당하는 위치에 E 를 표시해줍니다\n",
        "\n",
        "_ _ _ _ E E\n",
        "이렇게 되겠네요.\n",
        "\n",
        "이번에는 A를 해볼께요\n",
        "A 는 포함되지 않으므로 기회가 줄어들고 지금까지 맞힌 내용 그대로 출력합니다.\n",
        "\n",
        "_ _ _ _ E E\n",
        "변화가 없지요.\n",
        "\n",
        "이번에는 C 를 해봅시다.\n",
        "\n",
        "그럼\n",
        "C _ _ _ E E\n",
        "\n",
        "다음에는 F 를\n",
        "C _ F F E E\n",
        "\n",
        "마지막으로 O 를 해보면\n",
        "C O F F E E 로 게임은 성공으로 끝나게 됩니다."
      ],
      "metadata": {
        "id": "tRV0fxQPiGaT"
      }
    },
    {
      "cell_type": "markdown",
      "source": [
        "##본격적인 행맨 게임 규칙 설명\n",
        "\n",
        "- words 리스트에 추가된 단어들을 사용해주세요\n",
        "  - words = [\"apple\", \"banana\", \"orange\", \"grape\", \"lemon\"]\n",
        "\n",
        "- 단어의 길이에 맞게 밑줄을 출력해주세요  \n",
        "  (예)banana의 경우 _ _ _ _ _ _\n",
        "\n",
        "- 사용자부터 1글자씩 입력을 받되,\n",
        "   - 단어에 입력값이 포함되면 \"단어를 맞추셨군요. 더 힘내봐요\"라고 출력해주세요\"\n",
        "   - 단어에 입력값이 포함되어 있지 않다면 \"틀렸습니다. 남은 시도 횟수 \"란 메시지와 함꼐 남은 횟수를 출력해주세요\n",
        "\n",
        "- 매번 입력을 받을 때마다 현재까지 맞힌 글자들 표시(맞히면 글자는 밑줄 출력)\n",
        "    - 예) a 입력 시 : a _ _ _ _\n",
        "          p 입력 시 : a p p _ _\n",
        "          c 입력 시 : a p p _ _\n",
        "\n",
        "- 모든 단어를 맞췄을 경우 \"축하합니다! 단어를 맞추셨습니다\"와 시도 횟수를 출력해주세요\n",
        "\n",
        "\n",
        "행맨은 정말 유명 게임으로 찾아볼 수 있는 자료들이 많습니다.   \n",
        "문제가 어려우신 경우 구글링 통해 문제를 해결해보세요.  "
      ],
      "metadata": {
        "id": "D3SpCMMViIII"
      }
    },
    {
      "cell_type": "code",
      "source": [
        "import random\n",
        "\n",
        "def hangman():\n",
        "    words = [\"apple\", \"banana\", \"orange\", \"grape\", \"lemon\"]\n",
        "    word_to_guess = random.choice(words)  # 랜덤으로 단어 선택\n",
        "    guessed_word = [\"_\" for _ in word_to_guess]  # 밑줄로 초기화\n",
        "    attempts_left = 6  # 최대 시도 횟수\n",
        "    guessed_letters = set()\n",
        "\n",
        "    print(\"행맨 게임에 오신 것을 환영합니다!\")\n",
        "    print(\"단어를 맞춰보세요: {}\".format(\" \".join(guessed_word)))\n",
        "\n",
        "    while attempts_left > 0:\n",
        "        guess = input(\"글자를 입력하세요: \").lower()\n",
        "\n",
        "        # 입력이 유효하지 않을 경우\n",
        "        if len(guess) != 1 or not guess.isalpha():\n",
        "            print(\"유효한 한 글자를 입력해주세요.\")\n",
        "            continue\n",
        "\n",
        "        # 이미 입력한 글자인 경우\n",
        "        if guess in guessed_letters:\n",
        "            print(\"이미 입력한 글자입니다. 다른 글자를 입력해주세요.\")\n",
        "            continue\n",
        "\n",
        "        guessed_letters.add(guess)\n",
        "\n",
        "        if guess in word_to_guess:\n",
        "            print(\"단어를 맞추셨군요. 더 힘내봐요!\")\n",
        "            for idx, char in enumerate(word_to_guess):\n",
        "                if char == guess:\n",
        "                    guessed_word[idx] = guess\n",
        "        else:\n",
        "            attempts_left -= 1\n",
        "            print(f\"틀렸습니다. 남은 시도 횟수: {attempts_left}\")\n",
        "\n",
        "        print(\"현재 단어: {}\".format(\" \".join(guessed_word)))\n",
        "\n",
        "        # 모든 글자를 맞춘 경우\n",
        "        if \"_\" not in guessed_word:\n",
        "            print(f\"축하합니다! 단어를 맞추셨습니다: {word_to_guess}\")\n",
        "            print(f\"남은 시도 횟수: {attempts_left}\")\n",
        "            break\n",
        "    else:\n",
        "        print(f\"실패했습니다. 정답은 {word_to_guess}였습니다.\")\n",
        "\n",
        "# 게임 실행\n",
        "if __name__ == \"__main__\":\n",
        "    hangman()\n"
      ],
      "metadata": {
        "colab": {
          "base_uri": "https://localhost:8080/"
        },
        "id": "eNyFnzSTjGFo",
        "outputId": "66ee727d-f546-4101-af0f-775b17e094b7"
      },
      "execution_count": 2,
      "outputs": [
        {
          "output_type": "stream",
          "name": "stdout",
          "text": [
            "행맨 게임에 오신 것을 환영합니다!\n",
            "단어를 맞춰보세요: _ _ _ _ _\n",
            "글자를 입력하세요: a\n",
            "단어를 맞추셨군요. 더 힘내봐요!\n",
            "현재 단어: a _ _ _ _\n",
            "글자를 입력하세요: ap\n",
            "유효한 한 글자를 입력해주세요.\n",
            "글자를 입력하세요: a\n",
            "이미 입력한 글자입니다. 다른 글자를 입력해주세요.\n",
            "글자를 입력하세요: b\n",
            "틀렸습니다. 남은 시도 횟수: 5\n",
            "현재 단어: a _ _ _ _\n",
            "글자를 입력하세요: ab\n",
            "유효한 한 글자를 입력해주세요.\n",
            "글자를 입력하세요: c\n",
            "틀렸습니다. 남은 시도 횟수: 4\n",
            "현재 단어: a _ _ _ _\n",
            "글자를 입력하세요: s\n",
            "틀렸습니다. 남은 시도 횟수: 3\n",
            "현재 단어: a _ _ _ _\n",
            "글자를 입력하세요: b\n",
            "이미 입력한 글자입니다. 다른 글자를 입력해주세요.\n",
            "글자를 입력하세요: o\n",
            "틀렸습니다. 남은 시도 횟수: 2\n",
            "현재 단어: a _ _ _ _\n",
            "글자를 입력하세요: w\n",
            "틀렸습니다. 남은 시도 횟수: 1\n",
            "현재 단어: a _ _ _ _\n",
            "글자를 입력하세요: q\n",
            "틀렸습니다. 남은 시도 횟수: 0\n",
            "현재 단어: a _ _ _ _\n",
            "실패했습니다. 정답은 apple였습니다.\n"
          ]
        }
      ]
    }
  ]
}