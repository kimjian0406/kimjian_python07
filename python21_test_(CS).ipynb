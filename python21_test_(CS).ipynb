{
  "nbformat": 4,
  "nbformat_minor": 0,
  "metadata": {
    "colab": {
      "provenance": [],
      "authorship_tag": "ABX9TyNTMDkm+f9L75NV3fprRY3E"
    },
    "kernelspec": {
      "name": "python3",
      "display_name": "Python 3"
    },
    "language_info": {
      "name": "python"
    }
  },
  "cells": [
    {
      "cell_type": "markdown",
      "source": [
        "컴퓨터 기초 지식을 의미하는 CS(Computer science)는<br>\n",
        "코딩 테스트와 함께 기술 면접에서 지원자에게 필수적으로 요구합니다.<br>\n",
        "\n",
        "수업 내용 중 기술 면접에 자주 나오는 질문 3가지와 기본적으로 알아야 할 내용 과제로 선정했습니다.<br>\n",
        "\n",
        "관련 내용에 대해서는 구글링 또는 관련 서적을 통해 상세히 공부하시고<br>\n",
        "답변은 최대한 핵심만 담아 간결하게 작성해주세요<br>\n",
        "\n",
        "기술 블로그를 운영 중이신 경우<br>\n",
        "답변 내용을 기술 블로그에 작성하신 후 링크를 답변에 남겨주셔도 됩니다.<br>"
      ],
      "metadata": {
        "id": "AMghhg0ePEmh"
      }
    },
    {
      "cell_type": "markdown",
      "source": [
        "[문제1]\n",
        "\n",
        "객체지향에 대해서 설명해주세요"
      ],
      "metadata": {
        "id": "6ma4m0ajPF5t"
      }
    },
    {
      "cell_type": "markdown",
      "source": [
        "답변 객체지향 프로그래밍(OOP)은 프로그래밍 패러다임 중 하나로, **데이터(속성)**와 **그 데이터를 처리하는 메서드(함수)**를 하나의 객체로 묶어서 관리하는 방식입니다. 객체지향의 핵심은 현실 세계의 개념을 프로그래밍으로 모델링하는 것입니다."
      ],
      "metadata": {
        "id": "01i_3Fa9PfgM"
      }
    },
    {
      "cell_type": "markdown",
      "source": [
        " 객체지향의 핵심 개념\n",
        "클래스 (Class)\n",
        "객체를 생성하기 위한 설계도입니다.\n",
        "클래스는 속성(데이터)과 메서드(행동)를 정의합니다.\n",
        "객체 (Object)\n",
        "클래스를 기반으로 생성된 실체입니다.\n",
        "객체는 클래스의 속성과 메서드를 물려받아 실제 동작합니다.\n",
        "메서드 (Method)\n",
        "클래스 내부에 정의된 함수로, 객체가 수행할 행동을 나타냅니다.\n",
        "예: 자동차 객체의 start() 메서드, stop() 메서드.\n",
        "속성 (Attribute)\n",
        "객체가 가지고 있는 데이터를 나타냅니다.\n",
        "예: 자동차 객체의 색상, 속도, 제조사\n",
        "\n"
      ],
      "metadata": {
        "id": "aOWfBNg4Pl7h"
      }
    },
    {
      "cell_type": "markdown",
      "source": [
        "객체지향의 장점\n",
        "-코드 재사용성: 클래스와 상속을 통해 코드의 중복을 줄임.\n",
        "코드의 가독성: 클래스와 객체를 통해 구조화된 코드 작성.\n",
        "유지보수 용이: 캡슐화를 통해 코드 변경이 쉬워짐.\n",
        "확장성: 다형성과 상속을 통해 기능 확장이 쉬움.\n",
        "\n",
        "결론 객체지향 프로그래밍은 데이터와 그 데이터를 처리하는 메세드를 하나의 객체로 묶어 현실 세계의 개념을 모델링하는 강력한 프로그램밍 중 하나입니다"
      ],
      "metadata": {
        "id": "lsnA1OJyPwzX"
      }
    },
    {
      "cell_type": "markdown",
      "source": [
        "__init__ 메서드는 Python 클래스에서 생성자(constructor) 역할을 합니다.\n",
        "\n",
        "클래스가 인스턴스화(객체 생성)될때 자동으로 호출됩니다.\n",
        "객체를 초기화하는 데 사용됩니다.\n",
        "주로 객체의 속성(Attributes)을 설정하거나 필요한 초기 작업을 수행합니다."
      ],
      "metadata": {
        "id": "owtLVlnuQf4a"
      }
    },
    {
      "cell_type": "code",
      "source": [
        "class Person:\n",
        "    def __init__(self, name, age):  # __init__ 메서드 정의\n",
        "        self.name = name  # 속성 초기화\n",
        "        self.age = age\n",
        "\n",
        "    def introduce(self):\n",
        "        print(f\"안녕하세요, 저는 {self.name}이고, {self.age}살입니다.\")\n",
        "\n",
        "# 인스턴스 생성\n",
        "person1 = Person(\"김코\", 30)\n",
        "person2 = Person(\"이수\", 25)\n",
        "\n",
        "# 메서드 호출\n",
        "person1.introduce()  # 안녕하세요, 저는 김코이고, 30살입니다.\n",
        "person2.introduce()  # 안녕하세요, 저는 이수이고, 25살입니다.\n"
      ],
      "metadata": {
        "colab": {
          "base_uri": "https://localhost:8080/"
        },
        "id": "mocBq22NWhvU",
        "outputId": "3ad99fcc-4530-4241-9d40-9ad9e4f73583"
      },
      "execution_count": 1,
      "outputs": [
        {
          "output_type": "stream",
          "name": "stdout",
          "text": [
            "안녕하세요, 저는 김코이고, 30살입니다.\n",
            "안녕하세요, 저는 이수이고, 25살입니다.\n"
          ]
        }
      ]
    },
    {
      "cell_type": "code",
      "source": [
        "class Animal:\n",
        "    def __init__(self):\n",
        "        self.type = \"동물\"\n",
        "\n",
        "    def show_type(self):\n",
        "        print(f\"저는 {self.type}입니다.\")\n",
        "\n",
        "# 인스턴스 생성\n",
        "animal = Animal()\n",
        "animal.show_type()  # 저는 동물입니다.\n"
      ],
      "metadata": {
        "colab": {
          "base_uri": "https://localhost:8080/"
        },
        "id": "8WloGa8cX9I1",
        "outputId": "b60cd0df-7038-4c7e-9bfc-6f72130017a1"
      },
      "execution_count": 2,
      "outputs": [
        {
          "output_type": "stream",
          "name": "stdout",
          "text": [
            "저는 동물입니다.\n"
          ]
        }
      ]
    },
    {
      "cell_type": "code",
      "source": [
        "class Student:\n",
        "    def __init__(self, name, grade):\n",
        "        self.name = name\n",
        "        self.grade = grade\n",
        "\n",
        "    def study(self):\n",
        "        print(f\"{self.name} 학생이 {self.grade}학년 과정을 공부하고 있습니다.\")\n",
        "\n",
        "# 인스턴스 생성\n",
        "student = Student(\"김학생\", 2)\n",
        "student.study()  # 김학생 학생이 2학년 과정을 공부하고 있습니다.\n"
      ],
      "metadata": {
        "colab": {
          "base_uri": "https://localhost:8080/"
        },
        "id": "xZAz7OorYMeu",
        "outputId": "a7dfbd3d-4a69-43a7-ddbc-3d438734ca69"
      },
      "execution_count": 3,
      "outputs": [
        {
          "output_type": "stream",
          "name": "stdout",
          "text": [
            "김학생 학생이 2학년 과정을 공부하고 있습니다.\n"
          ]
        }
      ]
    },
    {
      "cell_type": "code",
      "source": [
        "class Car:\n",
        "    def __init__(self, brand, color=\"검정\"):\n",
        "        self.brand = brand\n",
        "        self.color = color\n",
        "\n",
        "    def show_info(self):\n",
        "        print(f\"자동차 브랜드: {self.brand}, 색상: {self.color}\")\n",
        "\n",
        "# 인스턴스 생성\n",
        "car1 = Car(\"Hyundai\", \"빨강\")\n",
        "car2 = Car(\"Kia\")  # 기본값 사용\n",
        "\n",
        "car1.show_info()  # 자동차 브랜드: Hyundai, 색상: 빨강\n",
        "car2.show_info()  # 자동차 브랜드: Kia, 색상: 검정\n"
      ],
      "metadata": {
        "colab": {
          "base_uri": "https://localhost:8080/"
        },
        "id": "_xwroWeGYPAU",
        "outputId": "c11f1ffe-1224-46f2-84af-c5f621b4227a"
      },
      "execution_count": 4,
      "outputs": [
        {
          "output_type": "stream",
          "name": "stdout",
          "text": [
            "자동차 브랜드: Hyundai, 색상: 빨강\n",
            "자동차 브랜드: Kia, 색상: 검정\n"
          ]
        }
      ]
    },
    {
      "cell_type": "markdown",
      "source": [
        "[문제3]\n",
        "\n",
        "클래스 상속에 대해 설명해주세요"
      ],
      "metadata": {
        "id": "rRWcOr50YrzP"
      }
    },
    {
      "cell_type": "markdown",
      "source": [
        "클래스 상속은 객체지향 프로그래밍에서 기존의 클래스를 재사용하여 새로운 클래스를 만드는 기능입니다.\n",
        "\n",
        "**부모 클래스(Base Class, Superclass)**의 속성과 메서드를 **자식 클래스(Derived Class, Subclass)**가 물려받습니다.\n",
        "코드 재사용성을 높이고, 기존 클래스를 확장하거나 수정하기 편리하게 만들어 줍니다.\n",
        "\n",
        "클래스의 장점\n",
        " 코드 재사용성\n",
        "  부모 클래스에서 정의된 코드를 자식 클래스에서 다시 작성할 필요 없이 사용 가능.\n",
        "   유지보수 용이\n",
        "    부모 클래스의 변경이 자식 클래스에 자동으로 반영되어 유지보수가 쉬워짐.\n",
        "    확장성\n",
        "    자식 클래스에서 부모 클래스의 기능을 확장하거나 수정 가능."
      ],
      "metadata": {
        "id": "zr6fqU1PYxXc"
      }
    },
    {
      "cell_type": "code",
      "source": [
        "# 부모 클래스 정의\n",
        "class Animal:\n",
        "    def sound(self):\n",
        "        print(\"동물이 소리를 냅니다.\")\n",
        "\n",
        "# 자식 클래스 정의\n",
        "class Dog(Animal):\n",
        "    def sound(self):\n",
        "        print(\"멍멍!\")\n",
        "\n",
        "class Cat(Animal):\n",
        "    def sound(self):\n",
        "        print(\"야옹!\")\n",
        "\n",
        "# 인스턴스 생성 및 메서드 호출\n",
        "dog = Dog()\n",
        "cat = Cat()\n",
        "\n",
        "dog.sound()  # 출력: 멍멍!\n",
        "cat.sound()  # 출력: 야옹!\n"
      ],
      "metadata": {
        "colab": {
          "base_uri": "https://localhost:8080/"
        },
        "id": "USIQDBPJZKOI",
        "outputId": "ba13412a-32aa-45a5-cbaf-91c3dc6273fa"
      },
      "execution_count": 5,
      "outputs": [
        {
          "output_type": "stream",
          "name": "stdout",
          "text": [
            "멍멍!\n",
            "야옹!\n"
          ]
        }
      ]
    },
    {
      "cell_type": "markdown",
      "source": [
        "[문제4]\n",
        "\n",
        "클래스 다중 상속과 관련된 MRO에 대해 설명해주세요"
      ],
      "metadata": {
        "id": "9yMASg_CZcDy"
      }
    },
    {
      "cell_type": "markdown",
      "source": [
        "다중 상속\n",
        "파이썬에서는 하나의 자식 클래스가 여러 부모 클래스를 상속받을 수 있는 기능을 제공합니다. 이를 다중 상속(Multiple Inheritance)이라고 합니다."
      ],
      "metadata": {
        "id": "4yPGwGDqZctu"
      }
    },
    {
      "cell_type": "code",
      "source": [
        "class Parent1:\n",
        "    def greet(self):\n",
        "        print(\"Hello from Parent1\")\n",
        "\n",
        "class Parent2:\n",
        "    def greet(self):\n",
        "        print(\"Hello from Parent2\")\n",
        "\n",
        "class Child(Parent1, Parent2):\n",
        "    pass\n",
        "\n",
        "child = Child()\n",
        "child.greet()  # 어느 부모의 greet 메서드를 호출할지 결정해야 함\n"
      ],
      "metadata": {
        "colab": {
          "base_uri": "https://localhost:8080/"
        },
        "id": "af2OYGmeZpbT",
        "outputId": "f64299ec-2dce-4b67-a90e-516e72980aaf"
      },
      "execution_count": 6,
      "outputs": [
        {
          "output_type": "stream",
          "name": "stdout",
          "text": [
            "Hello from Parent1\n"
          ]
        }
      ]
    },
    {
      "cell_type": "markdown",
      "source": [
        "[문제5]\n",
        "\n",
        "Self는 어떤 키워드 인가요?"
      ],
      "metadata": {
        "id": "DAC8cH3yaG3E"
      }
    },
    {
      "cell_type": "markdown",
      "source": [
        "**self**는 Python 클래스에서 인스턴스 자신을 참조하는 변수입니다.\n",
        "클래스 내부에서 정의된 모든 메서드는 첫 번째 매개변수로 self를 받아야 하며, 이를 통해 클래스의 인스턴스 속성과 메서드에 접근할 수 있습니다.\n",
        "\n",
        "self는 인스턴스 자신을 참조하는 변수입니다.\n",
        "클래스의 메서드는 self를 통해 인스턴스 속성과 메서드에 접근합니다.\n",
        "self를 사용하지 않으면 메서드 호출 시 Python은 호출한 객체를 참조할 수 없으므로 오류가 발생합니다"
      ],
      "metadata": {
        "id": "E41wmRw-aIvw"
      }
    },
    {
      "cell_type": "markdown",
      "source": [
        "[문제6]\n",
        "\n",
        "ZeroDivisionError,  IndexError 외에 3가지 이상의 파이썬 에러에 대해 설명해주세요"
      ],
      "metadata": {
        "id": "J1UBkTbUaQhK"
      }
    },
    {
      "cell_type": "markdown",
      "source": [
        " 1. ValueError\n",
        "발생 조건: 함수나 연산이 유효하지 않은 값을 받을 때 발생합니다.\n",
        "# ValueError 발생 예\n",
        "number = int(\"abc\")  # 문자열을 정수로 변환하려 시도\n"
      ],
      "metadata": {
        "id": "5Lkbpp_sa5qc"
      }
    },
    {
      "cell_type": "code",
      "source": [
        "ValueError: invalid literal for int() with base 10: 'abc'\n"
      ],
      "metadata": {
        "colab": {
          "base_uri": "https://localhost:8080/",
          "height": 105
        },
        "id": "BbqiSEPVbSCB",
        "outputId": "35dcce63-3825-46b7-b4e1-548ae04eb823"
      },
      "execution_count": 9,
      "outputs": [
        {
          "output_type": "error",
          "ename": "SyntaxError",
          "evalue": "invalid syntax (<ipython-input-9-35923b9e4d06>, line 1)",
          "traceback": [
            "\u001b[0;36m  File \u001b[0;32m\"<ipython-input-9-35923b9e4d06>\"\u001b[0;36m, line \u001b[0;32m1\u001b[0m\n\u001b[0;31m    ValueError: invalid literal for int() with base 10: 'abc'\u001b[0m\n\u001b[0m                        ^\u001b[0m\n\u001b[0;31mSyntaxError\u001b[0m\u001b[0;31m:\u001b[0m invalid syntax\n"
          ]
        }
      ]
    },
    {
      "cell_type": "code",
      "source": [
        "try:\n",
        "    number = int(\"abc\")\n",
        "except ValueError:\n",
        "    print(\"유효한 숫자를 입력하세요.\")\n"
      ],
      "metadata": {
        "colab": {
          "base_uri": "https://localhost:8080/"
        },
        "id": "raug-2B4bUMQ",
        "outputId": "d1e1066a-7624-4558-a1ab-6ca49949328f"
      },
      "execution_count": 10,
      "outputs": [
        {
          "output_type": "stream",
          "name": "stdout",
          "text": [
            "유효한 숫자를 입력하세요.\n"
          ]
        }
      ]
    },
    {
      "cell_type": "markdown",
      "source": [
        "key error 발생 예"
      ],
      "metadata": {
        "id": "FYedvjKvbd97"
      }
    },
    {
      "cell_type": "code",
      "source": [
        "# KeyError 발생 예\n",
        "my_dict = {\"name\": \"Alice\"}\n",
        "print(my_dict[\"age\"])  # 딕셔너리에 없는 키를 참조\n"
      ],
      "metadata": {
        "colab": {
          "base_uri": "https://localhost:8080/",
          "height": 173
        },
        "id": "v9HyWmNUbm6C",
        "outputId": "33e1985f-0f96-4d4c-a61b-f8ee6534219f"
      },
      "execution_count": 11,
      "outputs": [
        {
          "output_type": "error",
          "ename": "KeyError",
          "evalue": "'age'",
          "traceback": [
            "\u001b[0;31m---------------------------------------------------------------------------\u001b[0m",
            "\u001b[0;31mKeyError\u001b[0m                                  Traceback (most recent call last)",
            "\u001b[0;32m<ipython-input-11-b5ed5264df17>\u001b[0m in \u001b[0;36m<cell line: 3>\u001b[0;34m()\u001b[0m\n\u001b[1;32m      1\u001b[0m \u001b[0;31m# KeyError 발생 예\u001b[0m\u001b[0;34m\u001b[0m\u001b[0;34m\u001b[0m\u001b[0m\n\u001b[1;32m      2\u001b[0m \u001b[0mmy_dict\u001b[0m \u001b[0;34m=\u001b[0m \u001b[0;34m{\u001b[0m\u001b[0;34m\"name\"\u001b[0m\u001b[0;34m:\u001b[0m \u001b[0;34m\"Alice\"\u001b[0m\u001b[0;34m}\u001b[0m\u001b[0;34m\u001b[0m\u001b[0;34m\u001b[0m\u001b[0m\n\u001b[0;32m----> 3\u001b[0;31m \u001b[0mprint\u001b[0m\u001b[0;34m(\u001b[0m\u001b[0mmy_dict\u001b[0m\u001b[0;34m[\u001b[0m\u001b[0;34m\"age\"\u001b[0m\u001b[0;34m]\u001b[0m\u001b[0;34m)\u001b[0m  \u001b[0;31m# 딕셔너리에 없는 키를 참조\u001b[0m\u001b[0;34m\u001b[0m\u001b[0;34m\u001b[0m\u001b[0m\n\u001b[0m",
            "\u001b[0;31mKeyError\u001b[0m: 'age'"
          ]
        }
      ]
    },
    {
      "cell_type": "code",
      "source": [
        "KeyError: 'age'\n"
      ],
      "metadata": {
        "id": "60kZC8NYbplk"
      },
      "execution_count": 12,
      "outputs": []
    },
    {
      "cell_type": "code",
      "source": [
        "print(my_dict.get(\"age\", \"키가 없습니다.\"))  # 키가 없을 경우 기본값 반환\n"
      ],
      "metadata": {
        "colab": {
          "base_uri": "https://localhost:8080/"
        },
        "id": "13cu1ZWYbsW0",
        "outputId": "ed19bacf-c119-413e-d37e-fd295bed8dc7"
      },
      "execution_count": 13,
      "outputs": [
        {
          "output_type": "stream",
          "name": "stdout",
          "text": [
            "키가 없습니다.\n"
          ]
        }
      ]
    },
    {
      "cell_type": "markdown",
      "source": [
        "type 에러 발생 예"
      ],
      "metadata": {
        "id": "C3_8pqgWb6Y6"
      }
    },
    {
      "cell_type": "code",
      "source": [
        "# TypeError 발생 예\n",
        "result = \"hello\" + 5  # 문자열과 정수를 더하려 시도\n"
      ],
      "metadata": {
        "colab": {
          "base_uri": "https://localhost:8080/",
          "height": 156
        },
        "id": "6VKUMv-Ab_7S",
        "outputId": "3729050b-e176-4257-aa94-a8baca2d23a4"
      },
      "execution_count": 14,
      "outputs": [
        {
          "output_type": "error",
          "ename": "TypeError",
          "evalue": "can only concatenate str (not \"int\") to str",
          "traceback": [
            "\u001b[0;31m---------------------------------------------------------------------------\u001b[0m",
            "\u001b[0;31mTypeError\u001b[0m                                 Traceback (most recent call last)",
            "\u001b[0;32m<ipython-input-14-e8bac4e9185a>\u001b[0m in \u001b[0;36m<cell line: 2>\u001b[0;34m()\u001b[0m\n\u001b[1;32m      1\u001b[0m \u001b[0;31m# TypeError 발생 예\u001b[0m\u001b[0;34m\u001b[0m\u001b[0;34m\u001b[0m\u001b[0m\n\u001b[0;32m----> 2\u001b[0;31m \u001b[0mresult\u001b[0m \u001b[0;34m=\u001b[0m \u001b[0;34m\"hello\"\u001b[0m \u001b[0;34m+\u001b[0m \u001b[0;36m5\u001b[0m  \u001b[0;31m# 문자열과 정수를 더하려 시도\u001b[0m\u001b[0;34m\u001b[0m\u001b[0;34m\u001b[0m\u001b[0m\n\u001b[0m",
            "\u001b[0;31mTypeError\u001b[0m: can only concatenate str (not \"int\") to str"
          ]
        }
      ]
    },
    {
      "cell_type": "code",
      "source": [
        "TypeError: can only concatenate str (not \"int\") to str\n"
      ],
      "metadata": {
        "colab": {
          "base_uri": "https://localhost:8080/",
          "height": 105
        },
        "id": "1dRecOMXcDmZ",
        "outputId": "1e62f96e-6fa3-4669-8a58-62215922434b"
      },
      "execution_count": 15,
      "outputs": [
        {
          "output_type": "error",
          "ename": "SyntaxError",
          "evalue": "invalid syntax (<ipython-input-15-34011378e04b>, line 1)",
          "traceback": [
            "\u001b[0;36m  File \u001b[0;32m\"<ipython-input-15-34011378e04b>\"\u001b[0;36m, line \u001b[0;32m1\u001b[0m\n\u001b[0;31m    TypeError: can only concatenate str (not \"int\") to str\u001b[0m\n\u001b[0m                   ^\u001b[0m\n\u001b[0;31mSyntaxError\u001b[0m\u001b[0;31m:\u001b[0m invalid syntax\n"
          ]
        }
      ]
    },
    {
      "cell_type": "code",
      "source": [
        "result = \"hello\" + str(5)  # 정수를 문자열로 변환\n"
      ],
      "metadata": {
        "id": "UGSlEJvicGcd"
      },
      "execution_count": 16,
      "outputs": []
    },
    {
      "cell_type": "markdown",
      "source": [
        "에러 종류.         발생조건.                                예시코드\n",
        "\n",
        "value error.    값의 타입은 맞지만 유효하지 않은 값일 때       int(\"abc\")\n",
        "KeyError         딕셔너리에서 존재하지 않는 키를 참조할 때. my_dict[\"missing_key\"]\n",
        "\n",
        "TypeError       잘못된 데이터 타입으로 연산/함수를 호출할 때. \"hello\" + 5\n",
        "AttributeError. 존재하지 않는 속성/메서드에 접근할 때 my_list.push(4)\n",
        "FileNotFoundError. 존재하지 않는 파일을 열려고 할 때 open(\"missing_file.txt\")\n"
      ],
      "metadata": {
        "id": "q5H77VeCcQIC"
      }
    },
    {
      "cell_type": "markdown",
      "source": [],
      "metadata": {
        "id": "27WuYv29dko-"
      }
    }
  ]
}